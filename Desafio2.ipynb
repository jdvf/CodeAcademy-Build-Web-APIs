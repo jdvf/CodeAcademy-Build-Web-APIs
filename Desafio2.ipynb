{
  "nbformat": 4,
  "nbformat_minor": 0,
  "metadata": {
    "colab": {
      "name": "Desafio2.ipynb",
      "version": "0.3.2",
      "provenance": [],
      "include_colab_link": true
    },
    "kernelspec": {
      "name": "python3",
      "display_name": "Python 3"
    }
  },
  "cells": [
    {
      "cell_type": "markdown",
      "metadata": {
        "id": "view-in-github",
        "colab_type": "text"
      },
      "source": [
        "<a href=\"https://colab.research.google.com/github/jdvf/CodeAcademy-Build-Web-APIs/blob/master/Desafio2.ipynb\" target=\"_parent\"><img src=\"https://colab.research.google.com/assets/colab-badge.svg\" alt=\"Open In Colab\"/></a>"
      ]
    },
    {
      "cell_type": "markdown",
      "metadata": {
        "id": "xWYkVfskz701",
        "colab_type": "text"
      },
      "source": [
        "#importar librerias y csv"
      ]
    },
    {
      "cell_type": "code",
      "metadata": {
        "id": "p1YjSSRoz5nX",
        "colab_type": "code",
        "outputId": "dab498d4-99b6-4e19-d42d-343caf17a7e6",
        "colab": {
          "base_uri": "https://localhost:8080/",
          "height": 323
        }
      },
      "source": [
        "!pip install PyDrive;"
      ],
      "execution_count": 0,
      "outputs": [
        {
          "output_type": "stream",
          "text": [
            "Collecting PyDrive\n",
            "\u001b[?25l  Downloading https://files.pythonhosted.org/packages/52/e0/0e64788e5dd58ce2d6934549676243dc69d982f198524be9b99e9c2a4fd5/PyDrive-1.3.1.tar.gz (987kB)\n",
            "\u001b[K     |████████████████████████████████| 993kB 4.9MB/s \n",
            "\u001b[?25hRequirement already satisfied: google-api-python-client>=1.2 in /usr/local/lib/python3.6/dist-packages (from PyDrive) (1.6.7)\n",
            "Requirement already satisfied: oauth2client>=4.0.0 in /usr/local/lib/python3.6/dist-packages (from PyDrive) (4.1.3)\n",
            "Requirement already satisfied: PyYAML>=3.0 in /usr/local/lib/python3.6/dist-packages (from PyDrive) (3.13)\n",
            "Requirement already satisfied: uritemplate<4dev,>=3.0.0 in /usr/local/lib/python3.6/dist-packages (from google-api-python-client>=1.2->PyDrive) (3.0.0)\n",
            "Requirement already satisfied: six<2dev,>=1.6.1 in /usr/local/lib/python3.6/dist-packages (from google-api-python-client>=1.2->PyDrive) (1.12.0)\n",
            "Requirement already satisfied: httplib2<1dev,>=0.9.2 in /usr/local/lib/python3.6/dist-packages (from google-api-python-client>=1.2->PyDrive) (0.11.3)\n",
            "Requirement already satisfied: rsa>=3.1.4 in /usr/local/lib/python3.6/dist-packages (from oauth2client>=4.0.0->PyDrive) (4.0)\n",
            "Requirement already satisfied: pyasn1>=0.1.7 in /usr/local/lib/python3.6/dist-packages (from oauth2client>=4.0.0->PyDrive) (0.4.5)\n",
            "Requirement already satisfied: pyasn1-modules>=0.0.5 in /usr/local/lib/python3.6/dist-packages (from oauth2client>=4.0.0->PyDrive) (0.2.5)\n",
            "Building wheels for collected packages: PyDrive\n",
            "  Building wheel for PyDrive (setup.py) ... \u001b[?25l\u001b[?25hdone\n",
            "  Stored in directory: /root/.cache/pip/wheels/fa/d2/9a/d3b6b506c2da98289e5d417215ce34b696db856643bad779f4\n",
            "Successfully built PyDrive\n",
            "Installing collected packages: PyDrive\n",
            "Successfully installed PyDrive-1.3.1\n"
          ],
          "name": "stdout"
        }
      ]
    },
    {
      "cell_type": "code",
      "metadata": {
        "id": "-NeEJMeGy6z5",
        "colab_type": "code",
        "colab": {}
      },
      "source": [
        "from pydrive.auth import GoogleAuth\n",
        "from pydrive.drive import GoogleDrive\n",
        "from google.colab import auth\n",
        "from oauth2client.client import GoogleCredentials\n",
        "\n",
        "auth.authenticate_user()\n",
        "gauth = GoogleAuth()\n",
        "gauth.credentials = GoogleCredentials.get_application_default()\n",
        "drive = GoogleDrive(gauth)\n",
        "\n",
        "downloaded = drive.CreateFile({'id':\"0BzVrTKc02N8qNUdDSExBQlFTNlU\"})   # replace the id with id of file you want to access\n",
        "downloaded.GetContentFile('properatti.csv')        # replace the file name with your file"
      ],
      "execution_count": 0,
      "outputs": []
    },
    {
      "cell_type": "code",
      "metadata": {
        "id": "GywQSCBXzDZd",
        "colab_type": "code",
        "colab": {}
      },
      "source": [
        "import pandas as pd\n",
        "import numpy as np\n",
        "import seaborn as sns\n",
        "import ast, json\n",
        "\n",
        "import plotly\n",
        "import plotly.plotly as py\n",
        "import plotly.tools as tls\n",
        "import plotly.graph_objs as go\n",
        "from plotly.graph_objs import *\n",
        "from plotly.offline import init_notebook_mode, iplot, plot\n",
        "\n",
        "\n",
        "import matplotlib.pyplot as plt\n",
        "% matplotlib inline\n",
        "plt.style.use('bmh')\n",
        "\n",
        "usuario = 'jdvf86'\n",
        "key_api = 'YC7oObUABV0NNwHU0Lsy'\n",
        "plotly.tools.set_credentials_file(username = usuario, api_key = key_api)\n",
        "\n",
        "\n",
        "pd.set_option('display.max_rows', 20)\n",
        "pd.set_option('display.max_columns', 20)\n",
        "pd.set_option('display.width', 200)\n",
        "pd.set_option('display.max_colwidth', 901)  # or 199"
      ],
      "execution_count": 0,
      "outputs": []
    },
    {
      "cell_type": "markdown",
      "metadata": {
        "id": "4N1G_MqH0NDh",
        "colab_type": "text"
      },
      "source": [
        "#Preparar los datos\n",
        "\n",
        "\n",
        "\n",
        "1.   Importar el CSV\n",
        "\n"
      ]
    },
    {
      "cell_type": "code",
      "metadata": {
        "id": "5gIRCry50W9R",
        "colab_type": "code",
        "outputId": "7a0e20be-9fbf-411d-ceda-d92657dd6763",
        "colab": {
          "base_uri": "https://localhost:8080/",
          "height": 54
        }
      },
      "source": [
        "#Crear un objeto pandas con el CSV\n",
        "df = pd.read_csv('properatti.csv');\n",
        "\n",
        "\n",
        "\"\"\"   \n",
        "for c in df.columns:\n",
        "    print('-----{}-----'.format(c))\n",
        "    print(df[c].value_counts())\n",
        "    print('total = {}'.format(df[c].value_counts().sum()))\n",
        "    print('')\n",
        "\n",
        "\"\"\" \n"
      ],
      "execution_count": 131,
      "outputs": [
        {
          "output_type": "execute_result",
          "data": {
            "text/plain": [
              "\"   \\nfor c in df.columns:\\n    print('-----{}-----'.format(c))\\n    print(df[c].value_counts())\\n    print('total = {}'.format(df[c].value_counts().sum()))\\n    print('')\\n\\n\""
            ]
          },
          "metadata": {
            "tags": []
          },
          "execution_count": 131
        }
      ]
    },
    {
      "cell_type": "markdown",
      "metadata": {
        "id": "Zgz_qJy6_4hz",
        "colab_type": "text"
      },
      "source": [
        "-----localidad-----\n",
        "Belgrano                2992\n",
        "Palermo                 2885\n",
        "Caballito               2273\n",
        "Villa Urquiza           1629\n",
        "\n",
        "-----tipo_propiedad-----\n",
        "apartment    2761\n",
        "house         121\n",
        "store          67\n",
        "PH             43\n",
        "\n",
        "-----moneda-----\n",
        "USD    2394\n",
        "ARS     140\n"
      ]
    },
    {
      "cell_type": "markdown",
      "metadata": {
        "id": "y7hO2G_JJDzQ",
        "colab_type": "text"
      },
      "source": [
        "Restringuimos el DS a \n",
        "\n",
        "*   Belgrano (la Localidad de CABA con mas propiedades publicadas despues de los Palermos).\n",
        "*   Moneda USD\n",
        "*   Tipo de propiedad Departamento\n",
        "\n",
        "\n",
        "\n"
      ]
    },
    {
      "cell_type": "code",
      "metadata": {
        "id": "AA0o0KeOJJ14",
        "colab_type": "code",
        "colab": {}
      },
      "source": [
        "df = df[ df['state_name'].isin(['Capital Federal'])]\n",
        "df = df[ df['place_name'].isin(['San Telmo'])]\n",
        "df = df[ df['currency'].isin(['USD'])]\n",
        "df = df[ df['property_type'].isin(['apartment'])]"
      ],
      "execution_count": 0,
      "outputs": []
    },
    {
      "cell_type": "markdown",
      "metadata": {
        "id": "CzisMFAB-u4J",
        "colab_type": "text"
      },
      "source": [
        "Eliminamos y renombramos columnas"
      ]
    },
    {
      "cell_type": "code",
      "metadata": {
        "id": "VLNIHh6h-uLK",
        "colab_type": "code",
        "outputId": "ca53db73-0c00-4c01-d4d4-c505b28ab60d",
        "colab": {
          "base_uri": "https://localhost:8080/",
          "height": 170
        }
      },
      "source": [
        "\n",
        "#Remover las columnas que no aportan informacion\n",
        "df = df.drop(['Unnamed: 0',\n",
        "       'operation',\n",
        "       'property_type',\n",
        "       'place_name',\n",
        "       'place_with_parent_names',\n",
        "       'country_name',\n",
        "       'state_name',\n",
        "       'geonames_id',\n",
        "       'lat-lon',\n",
        "       #'lat',\n",
        "       #'lon',\n",
        "       #'price',\n",
        "       'currency',\n",
        "       'price_aprox_local_currency',\n",
        "       'price_aprox_usd',\n",
        "       #'surface_total_in_m2',\n",
        "       #'surface_covered_in_m2',\n",
        "       'price_usd_per_m2',\n",
        "       'price_per_m2',\n",
        "        'floor',\n",
        "       #'rooms',\n",
        "       'expenses',\n",
        "       'properati_url',\n",
        "      # 'description',\n",
        "      # 'title',\n",
        "       'image_thumbnail' ], axis=1)\n",
        "\n",
        "\n",
        "#Renombramos columnas\n",
        "df.rename(columns={\n",
        "'place_name': 'localidad',\n",
        "'price': 'precio',\n",
        "'surface_total_in_m2': 'm2_totales',\n",
        "'surface_covered_in_m2': 'm2_cubiertos',\n",
        "'rooms': 'ambientes',\n",
        "'description': 'descripcion',\n",
        "'title': 'titulo'}, inplace=True)\n",
        "\n",
        "df.isna().sum()"
      ],
      "execution_count": 133,
      "outputs": [
        {
          "output_type": "execute_result",
          "data": {
            "text/plain": [
              "lat             196\n",
              "lon             196\n",
              "precio            0\n",
              "m2_totales      130\n",
              "m2_cubiertos     17\n",
              "ambientes       399\n",
              "descripcion       0\n",
              "titulo            0\n",
              "dtype: int64"
            ]
          },
          "metadata": {
            "tags": []
          },
          "execution_count": 133
        }
      ]
    },
    {
      "cell_type": "markdown",
      "metadata": {
        "id": "yowNPn0TKUTX",
        "colab_type": "text"
      },
      "source": [
        "Completar nulos en superficie"
      ]
    },
    {
      "cell_type": "code",
      "metadata": {
        "id": "zEPneIU8KPoN",
        "colab_type": "code",
        "outputId": "17fa98ec-4240-4869-ecb7-5a8ede67d473",
        "colab": {
          "base_uri": "https://localhost:8080/",
          "height": 170
        }
      },
      "source": [
        "#completamos metros cuadrados totales con m2 cubiertos\n",
        "df.m2_totales = np.where(df.m2_totales.isnull(), df.m2_cubiertos, df.m2_totales)\n",
        "\n",
        "#eliminamos las filas con valores nulos en metros2 totales\n",
        "df.dropna(subset=['m2_totales'], inplace=True)\n",
        "\n",
        "#completamos metros cuadrados cubiertos con m2 totales\n",
        "df.m2_cubiertos = np.where(df.m2_cubiertos.isnull(), df.m2_totales, df.m2_cubiertos)\n",
        "\n",
        "print(df.isna().sum())"
      ],
      "execution_count": 134,
      "outputs": [
        {
          "output_type": "stream",
          "text": [
            "lat             195\n",
            "lon             195\n",
            "precio            0\n",
            "m2_totales        0\n",
            "m2_cubiertos      0\n",
            "ambientes       396\n",
            "descripcion       0\n",
            "titulo            0\n",
            "dtype: int64\n"
          ],
          "name": "stdout"
        }
      ]
    },
    {
      "cell_type": "markdown",
      "metadata": {
        "id": "hixBGCnhAIqz",
        "colab_type": "text"
      },
      "source": [
        "Imputacion de ambientes y piso mediante regex"
      ]
    },
    {
      "cell_type": "code",
      "metadata": {
        "id": "V5XqbVxTa7yz",
        "colab_type": "code",
        "colab": {}
      },
      "source": [
        "import re\n",
        "\n",
        "def is_number(str_value):\n",
        "    try: \n",
        "        int(str_value)\n",
        "        return True\n",
        "    except ValueError:\n",
        "        return False\n",
        "#END is_number\n",
        "\n",
        "\n",
        "def extract_from_text(dataframe, col_name, pattern, new_col_name):\n",
        "    numeros = {\"un\": 1,\"mono\": 1, \"uno\": 1, \"dos\": 2, \"tres\": 3, \"cuatro\": 4, \"cinco\": 5, \"seis\": 6, \"siete\": 7, \"ocho\": 8, \"nueve\": 9, \"primer\": 1, \"primero\": 1, \"segundo\": 2, \"tercer\": 3, \"tercero\" : 3, \"cuarto\": 4, \"quinto\": 5, \n",
        "               \"sexto\": 6, \"septimo\": 7, \"séptimo\": 7, \"octavo\": 8, \"noveno\": 9, \"decimo\": 10, \"décimo\": 10}\n",
        "    regex = re.compile(pattern, flags = re.IGNORECASE)\n",
        "    new_col = []\n",
        "\n",
        "    for desc in dataframe[col_name]:\n",
        "        try:\n",
        "            match = regex.search(desc)\n",
        "            if match: #insertar primer grupo de captura\n",
        "                if is_number(match[1]) : # ver si string es numero\n",
        "                    new_col.append(int(match[1]))\n",
        "                else: # si numero escrito como palabra, usar diccionario\n",
        "                    valor = numeros[match[1].lower()]\n",
        "                    new_col.append(valor)\n",
        "            else: \n",
        "                new_col.append(np.nan)\n",
        "        except TypeError:\n",
        "            new_col.append(np.nan)\n",
        "    dataframe[new_col_name] = new_col\n",
        " #END extract_from_file"
      ],
      "execution_count": 0,
      "outputs": []
    },
    {
      "cell_type": "code",
      "metadata": {
        "id": "y87J6S4j0GpF",
        "colab_type": "code",
        "colab": {}
      },
      "source": [
        "extract_from_text(df,\n",
        "                         \"descripcion\",\n",
        "                         r\"\\b(\\d)\\s*ambi?e?n?t?e?|\\b(uno?|dos|tres|cuatro|cinco|seis|siete|ocho|nueve)\\b\\s*ambi?e?n?t?e?\", \n",
        "                         \"ambientes2\")\n",
        "\n",
        "extract_from_text(df, \n",
        "                         \"descripcion\",\n",
        "                         r\"\\b(\\d)\\s*dormi?t?o?r?i?o|\\b(uno?|dos|tres|cuatro|cinco|seis|siete|ocho|nueve)\\b\\s*dormi?t?o?r?i?o?\", \n",
        "                         \"dormitorios\")"
      ],
      "execution_count": 0,
      "outputs": []
    },
    {
      "cell_type": "code",
      "metadata": {
        "id": "-pZfvYXVzu4n",
        "colab_type": "code",
        "colab": {}
      },
      "source": [
        "# agregar 1 a dormitorios para tomar en cuenta el living como un ambiente más\n",
        "df[\"dormitorios\"] = df[\"dormitorios\"] +1\n"
      ],
      "execution_count": 0,
      "outputs": []
    },
    {
      "cell_type": "code",
      "metadata": {
        "id": "faxAqTLC1dvf",
        "colab_type": "code",
        "colab": {}
      },
      "source": [
        "# llenar los nulos en rooms con ambientes \n",
        "df['ambientes'] = df['ambientes'].fillna(df['ambientes2'])\n",
        "# llenar los nulos que quedan en rooms con dormitorios\n",
        "df[\"ambientes\"] = df['ambientes'].fillna(df['dormitorios'])\n"
      ],
      "execution_count": 0,
      "outputs": []
    },
    {
      "cell_type": "code",
      "metadata": {
        "id": "uxOZ980j1fYY",
        "colab_type": "code",
        "colab": {}
      },
      "source": [
        "# borrar las columnas creadas por extract_from_description\n",
        "df.drop(['ambientes2', 'dormitorios'], axis='columns', inplace=True)"
      ],
      "execution_count": 0,
      "outputs": []
    },
    {
      "cell_type": "code",
      "metadata": {
        "id": "8Y4MnyMN2ZXr",
        "colab_type": "code",
        "outputId": "fa78ce71-31fb-4b2b-de2e-601567cc9b59",
        "colab": {
          "base_uri": "https://localhost:8080/",
          "height": 170
        }
      },
      "source": [
        "\n",
        "print(df.isna().sum())"
      ],
      "execution_count": 140,
      "outputs": [
        {
          "output_type": "stream",
          "text": [
            "lat             195\n",
            "lon             195\n",
            "precio            0\n",
            "m2_totales        0\n",
            "m2_cubiertos      0\n",
            "ambientes       121\n",
            "descripcion       0\n",
            "titulo            0\n",
            "dtype: int64\n"
          ],
          "name": "stdout"
        }
      ]
    },
    {
      "cell_type": "markdown",
      "metadata": {
        "id": "6DGYnGtUAsAC",
        "colab_type": "text"
      },
      "source": [
        "Agregar features"
      ]
    },
    {
      "cell_type": "code",
      "metadata": {
        "id": "zdTwIkEYA4Wg",
        "colab_type": "code",
        "colab": {}
      },
      "source": [
        "#Antes removemos titulo y descripion\n",
        "df = df.drop(['descripcion', 'titulo'], axis=1)"
      ],
      "execution_count": 0,
      "outputs": []
    },
    {
      "cell_type": "code",
      "metadata": {
        "id": "CisidPC0BSgs",
        "colab_type": "code",
        "colab": {
          "base_uri": "https://localhost:8080/",
          "height": 297
        },
        "outputId": "19d10449-a752-449e-b705-92dbc7ae4046"
      },
      "source": [
        "#Agregamos Precio por M2 Cubierto y Precio por M2 Total\n",
        "df['precio_m2_c'] = df['precio'] / df['m2_cubiertos']\n",
        "df['precio_m2_t'] = df['precio'] / df['m2_totales']\n",
        "\n",
        "df.describe()\n"
      ],
      "execution_count": 142,
      "outputs": [
        {
          "output_type": "execute_result",
          "data": {
            "text/html": [
              "<div>\n",
              "<style scoped>\n",
              "    .dataframe tbody tr th:only-of-type {\n",
              "        vertical-align: middle;\n",
              "    }\n",
              "\n",
              "    .dataframe tbody tr th {\n",
              "        vertical-align: top;\n",
              "    }\n",
              "\n",
              "    .dataframe thead th {\n",
              "        text-align: right;\n",
              "    }\n",
              "</style>\n",
              "<table border=\"1\" class=\"dataframe\">\n",
              "  <thead>\n",
              "    <tr style=\"text-align: right;\">\n",
              "      <th></th>\n",
              "      <th>lat</th>\n",
              "      <th>lon</th>\n",
              "      <th>precio</th>\n",
              "      <th>m2_totales</th>\n",
              "      <th>m2_cubiertos</th>\n",
              "      <th>ambientes</th>\n",
              "      <th>precio_m2_c</th>\n",
              "      <th>precio_m2_t</th>\n",
              "    </tr>\n",
              "  </thead>\n",
              "  <tbody>\n",
              "    <tr>\n",
              "      <th>count</th>\n",
              "      <td>533.000000</td>\n",
              "      <td>533.000000</td>\n",
              "      <td>7.280000e+02</td>\n",
              "      <td>728.000000</td>\n",
              "      <td>728.000000</td>\n",
              "      <td>607.000000</td>\n",
              "      <td>728.000000</td>\n",
              "      <td>728.000000</td>\n",
              "    </tr>\n",
              "    <tr>\n",
              "      <th>mean</th>\n",
              "      <td>-34.620219</td>\n",
              "      <td>-58.376326</td>\n",
              "      <td>1.989301e+05</td>\n",
              "      <td>335.862637</td>\n",
              "      <td>329.482143</td>\n",
              "      <td>2.219110</td>\n",
              "      <td>inf</td>\n",
              "      <td>2340.768905</td>\n",
              "    </tr>\n",
              "    <tr>\n",
              "      <th>std</th>\n",
              "      <td>0.006288</td>\n",
              "      <td>0.006196</td>\n",
              "      <td>1.723848e+06</td>\n",
              "      <td>7410.397350</td>\n",
              "      <td>7410.590876</td>\n",
              "      <td>1.441865</td>\n",
              "      <td>NaN</td>\n",
              "      <td>586.956127</td>\n",
              "    </tr>\n",
              "    <tr>\n",
              "      <th>min</th>\n",
              "      <td>-34.649557</td>\n",
              "      <td>-58.423096</td>\n",
              "      <td>2.240000e+04</td>\n",
              "      <td>13.000000</td>\n",
              "      <td>0.000000</td>\n",
              "      <td>1.000000</td>\n",
              "      <td>232.727225</td>\n",
              "      <td>232.727225</td>\n",
              "    </tr>\n",
              "    <tr>\n",
              "      <th>25%</th>\n",
              "      <td>-34.624430</td>\n",
              "      <td>-58.377485</td>\n",
              "      <td>8.689800e+04</td>\n",
              "      <td>39.000000</td>\n",
              "      <td>35.000000</td>\n",
              "      <td>1.000000</td>\n",
              "      <td>2168.995098</td>\n",
              "      <td>2009.825080</td>\n",
              "    </tr>\n",
              "    <tr>\n",
              "      <th>50%</th>\n",
              "      <td>-34.620953</td>\n",
              "      <td>-58.375554</td>\n",
              "      <td>1.214790e+05</td>\n",
              "      <td>51.000000</td>\n",
              "      <td>46.000000</td>\n",
              "      <td>2.000000</td>\n",
              "      <td>2621.455939</td>\n",
              "      <td>2391.958333</td>\n",
              "    </tr>\n",
              "    <tr>\n",
              "      <th>75%</th>\n",
              "      <td>-34.617231</td>\n",
              "      <td>-58.373245</td>\n",
              "      <td>1.476190e+05</td>\n",
              "      <td>58.000000</td>\n",
              "      <td>49.250000</td>\n",
              "      <td>3.000000</td>\n",
              "      <td>2984.020408</td>\n",
              "      <td>2665.500000</td>\n",
              "    </tr>\n",
              "    <tr>\n",
              "      <th>max</th>\n",
              "      <td>-34.573789</td>\n",
              "      <td>-58.365624</td>\n",
              "      <td>4.654544e+07</td>\n",
              "      <td>200000.000000</td>\n",
              "      <td>200000.000000</td>\n",
              "      <td>14.000000</td>\n",
              "      <td>inf</td>\n",
              "      <td>5989.583333</td>\n",
              "    </tr>\n",
              "  </tbody>\n",
              "</table>\n",
              "</div>"
            ],
            "text/plain": [
              "              lat         lon        precio     m2_totales   m2_cubiertos   ambientes  precio_m2_c  precio_m2_t\n",
              "count  533.000000  533.000000  7.280000e+02     728.000000     728.000000  607.000000   728.000000   728.000000\n",
              "mean   -34.620219  -58.376326  1.989301e+05     335.862637     329.482143    2.219110          inf  2340.768905\n",
              "std      0.006288    0.006196  1.723848e+06    7410.397350    7410.590876    1.441865          NaN   586.956127\n",
              "min    -34.649557  -58.423096  2.240000e+04      13.000000       0.000000    1.000000   232.727225   232.727225\n",
              "25%    -34.624430  -58.377485  8.689800e+04      39.000000      35.000000    1.000000  2168.995098  2009.825080\n",
              "50%    -34.620953  -58.375554  1.214790e+05      51.000000      46.000000    2.000000  2621.455939  2391.958333\n",
              "75%    -34.617231  -58.373245  1.476190e+05      58.000000      49.250000    3.000000  2984.020408  2665.500000\n",
              "max    -34.573789  -58.365624  4.654544e+07  200000.000000  200000.000000   14.000000          inf  5989.583333"
            ]
          },
          "metadata": {
            "tags": []
          },
          "execution_count": 142
        }
      ]
    },
    {
      "cell_type": "markdown",
      "metadata": {
        "id": "RjcMy6KlHLYk",
        "colab_type": "text"
      },
      "source": [
        "Split Train y Test"
      ]
    },
    {
      "cell_type": "code",
      "metadata": {
        "id": "Z9kRJFBRHLfv",
        "colab_type": "code",
        "colab": {}
      },
      "source": [
        "from sklearn import datasets, linear_model\n",
        "from sklearn.metrics import mean_squared_error, r2_score\n",
        "from sklearn.model_selection import train_test_split"
      ],
      "execution_count": 0,
      "outputs": []
    },
    {
      "cell_type": "markdown",
      "metadata": {
        "id": "TJbIgGXps5Zh",
        "colab_type": "text"
      },
      "source": [
        "Identificar y remover outliers en Train"
      ]
    },
    {
      "cell_type": "code",
      "metadata": {
        "id": "tMZJ0dyCs-Gb",
        "colab_type": "code",
        "outputId": "8866d7d6-8767-4415-a593-b9da0cbe05c8",
        "colab": {
          "base_uri": "https://localhost:8080/",
          "height": 302
        }
      },
      "source": [
        "MAX_ROWS = 10\n",
        "pd.set_option('display.max_rows', MAX_ROWS)\n",
        "pd.set_option('display.max_columns', 200)\n",
        "sns.set_style(\"whitegrid\")\n",
        "sns.set_context(\"paper\")\n",
        "\n",
        "\n",
        "sns.boxplot(x=df['precio_m2_t'])"
      ],
      "execution_count": 144,
      "outputs": [
        {
          "output_type": "execute_result",
          "data": {
            "text/plain": [
              "<matplotlib.axes._subplots.AxesSubplot at 0x7fb70c0eae10>"
            ]
          },
          "metadata": {
            "tags": []
          },
          "execution_count": 144
        },
        {
          "output_type": "display_data",
          "data": {
            "image/png": "[encoded data removed]",
            "text/plain": [
              "<Figure size 432x288 with 1 Axes>"
            ]
          },
          "metadata": {
            "tags": []
          }
        }
      ]
    },
    {
      "cell_type": "code",
      "metadata": {
        "id": "MXQnRdfoJ5ML",
        "colab_type": "code",
        "outputId": "5617e95a-c33c-4ea5-b7e0-d5433a913410",
        "colab": {
          "base_uri": "https://localhost:8080/",
          "height": 34
        }
      },
      "source": [
        "df.columns"
      ],
      "execution_count": 145,
      "outputs": [
        {
          "output_type": "execute_result",
          "data": {
            "text/plain": [
              "Index(['lat', 'lon', 'precio', 'm2_totales', 'm2_cubiertos', 'ambientes', 'precio_m2_c', 'precio_m2_t'], dtype='object')"
            ]
          },
          "metadata": {
            "tags": []
          },
          "execution_count": 145
        }
      ]
    },
    {
      "cell_type": "code",
      "metadata": {
        "id": "nd2ude2D3TPx",
        "colab_type": "code",
        "outputId": "18ae101b-f45b-484d-e101-2caf29305a2b",
        "colab": {
          "base_uri": "https://localhost:8080/",
          "height": 508
        }
      },
      "source": [
        "#Multivariate outlier analysis\n",
        "fig, ax = plt.subplots(figsize=(16,8))\n",
        "ax.scatter(df['m2_totales'], df['precio'])\n",
        "ax.set_xlabel('m2_totales')\n",
        "ax.set_ylabel('Precio')\n",
        "plt.show()"
      ],
      "execution_count": 146,
      "outputs": [
        {
          "output_type": "display_data",
          "data": {
            "image/png": "[encoded data removed]",
            "text/plain": [
              "<Figure size 1152x576 with 1 Axes>"
            ]
          },
          "metadata": {
            "tags": []
          }
        }
      ]
    },
    {
      "cell_type": "markdown",
      "metadata": {
        "id": "JvHsIZCHGEBZ",
        "colab_type": "text"
      },
      "source": [
        "eliminando outliers con tecnica ConvexHull "
      ]
    },
    {
      "cell_type": "code",
      "metadata": {
        "id": "tMRqdSgQBqO3",
        "colab_type": "code",
        "outputId": "66f7f568-b423-46ec-a945-8fc7490d234d",
        "colab": {
          "base_uri": "https://localhost:8080/",
          "height": 293
        }
      },
      "source": [
        "# en Precio xm2 total\n",
        "# Load in convex hull method\n",
        "from scipy.spatial import ConvexHull\n",
        "\n",
        "# Define the set of our points\n",
        "points = df[[\"m2_totales\", \"precio\"]].values\n",
        "\n",
        "# Calculate the position of the points in the convex hull\n",
        "hull = ConvexHull(points)\n",
        "\n",
        "# Plot the convex hull over the scatter plot\n",
        "plt.plot(df[\"m2_totales\"], df[\"precio\"], 'ok')\n",
        "plt.plot(points[hull.vertices, 0], points[hull.vertices,1], 'r--', lw = 2)\n",
        "plt.plot(points[hull.vertices, 0], points[hull.vertices,1], 'ro', lw = 2)"
      ],
      "execution_count": 147,
      "outputs": [
        {
          "output_type": "execute_result",
          "data": {
            "text/plain": [
              "[<matplotlib.lines.Line2D at 0x7fb70afec828>]"
            ]
          },
          "metadata": {
            "tags": []
          },
          "execution_count": 147
        },
        {
          "output_type": "display_data",
          "data": {
            "image/png": "[encoded data removed]",
            "text/plain": [
              "<Figure size 432x288 with 1 Axes>"
            ]
          },
          "metadata": {
            "tags": []
          }
        }
      ]
    },
    {
      "cell_type": "code",
      "metadata": {
        "id": "bLAKFSH3vTmx",
        "colab_type": "code",
        "colab": {}
      },
      "source": [
        ""
      ],
      "execution_count": 0,
      "outputs": []
    },
    {
      "cell_type": "code",
      "metadata": {
        "id": "SAvg3abQFYxM",
        "colab_type": "code",
        "outputId": "3a513862-7c63-4193-bcdd-0136749ca8f8",
        "colab": {
          "base_uri": "https://localhost:8080/",
          "height": 503
        }
      },
      "source": [
        "df=df.reset_index(drop=True).loc[~df.reset_index(drop=True).index.isin(hull.vertices)]\n",
        "\n",
        "#Multivariate outlier analysis\n",
        "fig, ax = plt.subplots(figsize=(16,8))\n",
        "ax.scatter(df['m2_totales'], df['precio'])\n",
        "ax.set_xlabel('m2_totales')\n",
        "ax.set_ylabel('Precio')\n",
        "plt.show()"
      ],
      "execution_count": 148,
      "outputs": [
        {
          "output_type": "display_data",
          "data": {
            "image/png": "[encoded data removed]",
            "text/plain": [
              "<Figure size 1152x576 with 1 Axes>"
            ]
          },
          "metadata": {
            "tags": []
          }
        }
      ]
    },
    {
      "cell_type": "code",
      "metadata": {
        "id": "wB4FFiK9LPIY",
        "colab_type": "code",
        "outputId": "de9fd3d9-ab31-441e-b520-fab7316f9f83",
        "colab": {
          "base_uri": "https://localhost:8080/",
          "height": 302
        }
      },
      "source": [
        "sns.boxplot(x=df['precio_m2_t'])"
      ],
      "execution_count": 149,
      "outputs": [
        {
          "output_type": "execute_result",
          "data": {
            "text/plain": [
              "<matplotlib.axes._subplots.AxesSubplot at 0x7fb711a92c50>"
            ]
          },
          "metadata": {
            "tags": []
          },
          "execution_count": 149
        },
        {
          "output_type": "display_data",
          "data": {
            "image/png": "[encoded data removed]",
            "text/plain": [
              "<Figure size 432x288 with 1 Axes>"
            ]
          },
          "metadata": {
            "tags": []
          }
        }
      ]
    },
    {
      "cell_type": "code",
      "metadata": {
        "id": "j3yI_yJsK2rJ",
        "colab_type": "code",
        "outputId": "7ea3156b-5684-406f-aaf9-3b49238a166f",
        "colab": {
          "base_uri": "https://localhost:8080/",
          "height": 503
        }
      },
      "source": [
        "#eliminando outliers con tecnica ConvexHull en Precio xm2 Cubierto\n",
        "\n",
        "fig, ax = plt.subplots(figsize=(16,8))\n",
        "ax.scatter(df['m2_cubiertos'], df['precio'])\n",
        "ax.set_xlabel('m2_cubiertos')\n",
        "ax.set_ylabel('Precio')\n",
        "plt.show()"
      ],
      "execution_count": 150,
      "outputs": [
        {
          "output_type": "display_data",
          "data": {
            "image/png": "[encoded data removed]",
            "text/plain": [
              "<Figure size 1152x576 with 1 Axes>"
            ]
          },
          "metadata": {
            "tags": []
          }
        }
      ]
    },
    {
      "cell_type": "code",
      "metadata": {
        "id": "I-iJXDENLgYU",
        "colab_type": "code",
        "outputId": "ad545ba9-639a-404c-a390-6c6e1f961b2d",
        "colab": {
          "base_uri": "https://localhost:8080/",
          "height": 287
        }
      },
      "source": [
        "# en Precio xm2 total\n",
        "# Load in convex hull method\n",
        "from scipy.spatial import ConvexHull\n",
        "\n",
        "# Define the set of our points\n",
        "points = df[[\"m2_cubiertos\", \"precio\"]].values\n",
        "\n",
        "# Calculate the position of the points in the convex hull\n",
        "hull = ConvexHull(points)\n",
        "\n",
        "# Plot the convex hull over the scatter plot\n",
        "plt.plot(df[\"m2_cubiertos\"], df[\"precio\"], 'ok')\n",
        "plt.plot(points[hull.vertices, 0], points[hull.vertices,1], 'r--', lw = 2)\n",
        "plt.plot(points[hull.vertices, 0], points[hull.vertices,1], 'ro', lw = 2)"
      ],
      "execution_count": 151,
      "outputs": [
        {
          "output_type": "execute_result",
          "data": {
            "text/plain": [
              "[<matplotlib.lines.Line2D at 0x7fb70d7d4eb8>]"
            ]
          },
          "metadata": {
            "tags": []
          },
          "execution_count": 151
        },
        {
          "output_type": "display_data",
          "data": {
            "image/png": "[encoded data removed]",
            "text/plain": [
              "<Figure size 432x288 with 1 Axes>"
            ]
          },
          "metadata": {
            "tags": []
          }
        }
      ]
    },
    {
      "cell_type": "code",
      "metadata": {
        "id": "sWemvyrwLycv",
        "colab_type": "code",
        "outputId": "d52d5996-7d64-4ca1-b56e-cef6530aafe5",
        "colab": {
          "base_uri": "https://localhost:8080/",
          "height": 503
        }
      },
      "source": [
        "df=df.reset_index(drop=True).loc[~df.reset_index(drop=True).index.isin(hull.vertices)]\n",
        "\n",
        "fig, ax = plt.subplots(figsize=(16,8))\n",
        "ax.scatter(df['m2_cubiertos'], df['precio'])\n",
        "ax.set_xlabel('m2_cubiertos')\n",
        "ax.set_ylabel('Precio')\n",
        "plt.show()"
      ],
      "execution_count": 152,
      "outputs": [
        {
          "output_type": "display_data",
          "data": {
            "image/png": "[encoded data removed]",
            "text/plain": [
              "<Figure size 1152x576 with 1 Axes>"
            ]
          },
          "metadata": {
            "tags": []
          }
        }
      ]
    },
    {
      "cell_type": "code",
      "metadata": {
        "id": "4yWW30lfSy5u",
        "colab_type": "code",
        "outputId": "066a38c9-860f-4b26-ff93-302fd9c89dd3",
        "colab": {
          "base_uri": "https://localhost:8080/",
          "height": 301
        }
      },
      "source": [
        "#Index(['lat', 'lon', 'precio', 'm2_totales', 'm2_cubiertos', 'ambientes', 'precio_m2_c', 'precio_m2_t'], dtype='object')\n",
        "\n",
        "sns.distplot(df['precio'], kde=False, color='red', bins=50)\n"
      ],
      "execution_count": 153,
      "outputs": [
        {
          "output_type": "execute_result",
          "data": {
            "text/plain": [
              "<matplotlib.axes._subplots.AxesSubplot at 0x7fb70d38c780>"
            ]
          },
          "metadata": {
            "tags": []
          },
          "execution_count": 153
        },
        {
          "output_type": "display_data",
          "data": {
            "image/png": "[encoded data removed]",
            "text/plain": [
              "<Figure size 432x288 with 1 Axes>"
            ]
          },
          "metadata": {
            "tags": []
          }
        }
      ]
    },
    {
      "cell_type": "markdown",
      "metadata": {
        "id": "12jQWEepPvHf",
        "colab_type": "text"
      },
      "source": [
        "**Agregando otras columnas**"
      ]
    },
    {
      "cell_type": "markdown",
      "metadata": {
        "id": "JS5j_wuGP14p",
        "colab_type": "text"
      },
      "source": [
        ""
      ]
    },
    {
      "cell_type": "markdown",
      "metadata": {
        "id": "Si_qTL_0Phh_",
        "colab_type": "text"
      },
      "source": [
        "Correlaciones"
      ]
    },
    {
      "cell_type": "code",
      "metadata": {
        "id": "eYIlSxEqNbWs",
        "colab_type": "code",
        "outputId": "1f15e06a-e105-40f8-a61a-f5a1711435fe",
        "colab": {
          "base_uri": "https://localhost:8080/",
          "height": 297
        }
      },
      "source": [
        "df.describe()"
      ],
      "execution_count": 154,
      "outputs": [
        {
          "output_type": "execute_result",
          "data": {
            "text/html": [
              "<div>\n",
              "<style scoped>\n",
              "    .dataframe tbody tr th:only-of-type {\n",
              "        vertical-align: middle;\n",
              "    }\n",
              "\n",
              "    .dataframe tbody tr th {\n",
              "        vertical-align: top;\n",
              "    }\n",
              "\n",
              "    .dataframe thead th {\n",
              "        text-align: right;\n",
              "    }\n",
              "</style>\n",
              "<table border=\"1\" class=\"dataframe\">\n",
              "  <thead>\n",
              "    <tr style=\"text-align: right;\">\n",
              "      <th></th>\n",
              "      <th>lat</th>\n",
              "      <th>lon</th>\n",
              "      <th>precio</th>\n",
              "      <th>m2_totales</th>\n",
              "      <th>m2_cubiertos</th>\n",
              "      <th>ambientes</th>\n",
              "      <th>precio_m2_c</th>\n",
              "      <th>precio_m2_t</th>\n",
              "    </tr>\n",
              "  </thead>\n",
              "  <tbody>\n",
              "    <tr>\n",
              "      <th>count</th>\n",
              "      <td>521.000000</td>\n",
              "      <td>521.000000</td>\n",
              "      <td>716.000000</td>\n",
              "      <td>716.000000</td>\n",
              "      <td>716.000000</td>\n",
              "      <td>596.000000</td>\n",
              "      <td>716.000000</td>\n",
              "      <td>716.000000</td>\n",
              "    </tr>\n",
              "    <tr>\n",
              "      <th>mean</th>\n",
              "      <td>-34.620365</td>\n",
              "      <td>-58.376309</td>\n",
              "      <td>129510.899441</td>\n",
              "      <td>59.410615</td>\n",
              "      <td>53.163408</td>\n",
              "      <td>2.179530</td>\n",
              "      <td>2582.570758</td>\n",
              "      <td>2333.756826</td>\n",
              "    </tr>\n",
              "    <tr>\n",
              "      <th>std</th>\n",
              "      <td>0.006053</td>\n",
              "      <td>0.006240</td>\n",
              "      <td>65504.744303</td>\n",
              "      <td>44.445854</td>\n",
              "      <td>37.541360</td>\n",
              "      <td>1.342136</td>\n",
              "      <td>596.357333</td>\n",
              "      <td>529.766710</td>\n",
              "    </tr>\n",
              "    <tr>\n",
              "      <th>min</th>\n",
              "      <td>-34.649557</td>\n",
              "      <td>-58.423096</td>\n",
              "      <td>32772.000000</td>\n",
              "      <td>19.000000</td>\n",
              "      <td>19.000000</td>\n",
              "      <td>1.000000</td>\n",
              "      <td>1032.258065</td>\n",
              "      <td>729.166667</td>\n",
              "    </tr>\n",
              "    <tr>\n",
              "      <th>25%</th>\n",
              "      <td>-34.624430</td>\n",
              "      <td>-58.377442</td>\n",
              "      <td>86898.000000</td>\n",
              "      <td>39.000000</td>\n",
              "      <td>35.000000</td>\n",
              "      <td>1.000000</td>\n",
              "      <td>2179.480769</td>\n",
              "      <td>2023.404908</td>\n",
              "    </tr>\n",
              "    <tr>\n",
              "      <th>50%</th>\n",
              "      <td>-34.621007</td>\n",
              "      <td>-58.375515</td>\n",
              "      <td>121100.000000</td>\n",
              "      <td>51.000000</td>\n",
              "      <td>46.000000</td>\n",
              "      <td>2.000000</td>\n",
              "      <td>2621.455939</td>\n",
              "      <td>2393.094697</td>\n",
              "    </tr>\n",
              "    <tr>\n",
              "      <th>75%</th>\n",
              "      <td>-34.617281</td>\n",
              "      <td>-58.373245</td>\n",
              "      <td>147344.000000</td>\n",
              "      <td>57.000000</td>\n",
              "      <td>49.000000</td>\n",
              "      <td>3.000000</td>\n",
              "      <td>2961.858863</td>\n",
              "      <td>2664.294118</td>\n",
              "    </tr>\n",
              "    <tr>\n",
              "      <th>max</th>\n",
              "      <td>-34.573789</td>\n",
              "      <td>-58.365624</td>\n",
              "      <td>665000.000000</td>\n",
              "      <td>404.000000</td>\n",
              "      <td>350.000000</td>\n",
              "      <td>14.000000</td>\n",
              "      <td>4750.709677</td>\n",
              "      <td>4285.714286</td>\n",
              "    </tr>\n",
              "  </tbody>\n",
              "</table>\n",
              "</div>"
            ],
            "text/plain": [
              "              lat         lon         precio  m2_totales  m2_cubiertos   ambientes  precio_m2_c  precio_m2_t\n",
              "count  521.000000  521.000000     716.000000  716.000000    716.000000  596.000000   716.000000   716.000000\n",
              "mean   -34.620365  -58.376309  129510.899441   59.410615     53.163408    2.179530  2582.570758  2333.756826\n",
              "std      0.006053    0.006240   65504.744303   44.445854     37.541360    1.342136   596.357333   529.766710\n",
              "min    -34.649557  -58.423096   32772.000000   19.000000     19.000000    1.000000  1032.258065   729.166667\n",
              "25%    -34.624430  -58.377442   86898.000000   39.000000     35.000000    1.000000  2179.480769  2023.404908\n",
              "50%    -34.621007  -58.375515  121100.000000   51.000000     46.000000    2.000000  2621.455939  2393.094697\n",
              "75%    -34.617281  -58.373245  147344.000000   57.000000     49.000000    3.000000  2961.858863  2664.294118\n",
              "max    -34.573789  -58.365624  665000.000000  404.000000    350.000000   14.000000  4750.709677  4285.714286"
            ]
          },
          "metadata": {
            "tags": []
          },
          "execution_count": 154
        }
      ]
    },
    {
      "cell_type": "code",
      "metadata": {
        "id": "eLJLmm9eMBtJ",
        "colab_type": "code",
        "outputId": "eac6371b-0826-4712-c918-15116e95d30d",
        "colab": {
          "base_uri": "https://localhost:8080/",
          "height": 375
        }
      },
      "source": [
        "#Buscando correlaciones\n",
        "#Index(['lat', 'lon', 'precio', 'm2_totales', 'm2_cubiertos', 'ambientes', 'precio_m2_c', 'precio_m2_t'], dtype='object')\n",
        "\n",
        "subjective_corr = df[['precio', 'm2_totales', 'm2_cubiertos', 'ambientes', 'precio_m2_c', 'precio_m2_t']].corr()\n",
        "subjective_corr[np.abs(subjective_corr)<.2] = 0\n",
        "mask = np.zeros_like(subjective_corr, dtype=np.bool)\n",
        "mask[np.triu_indices_from(mask)] = True\n",
        "\n",
        "plt.figure(figsize=(5,5))\n",
        "sns.heatmap(subjective_corr,\n",
        "            vmin=-1,\n",
        "            cmap='coolwarm',\n",
        "            annot=True,\n",
        "            mask = mask\n",
        "           );"
      ],
      "execution_count": 155,
      "outputs": [
        {
          "output_type": "display_data",
          "data": {
            "image/png": "[encoded data removed]",
            "text/plain": [
              "<Figure size 360x360 with 2 Axes>"
            ]
          },
          "metadata": {
            "tags": []
          }
        }
      ]
    },
    {
      "cell_type": "markdown",
      "metadata": {
        "id": "bvYZ1XUsaLMW",
        "colab_type": "text"
      },
      "source": [
        "# ZIP Code\n"
      ]
    },
    {
      "cell_type": "code",
      "metadata": {
        "id": "FPEqymZ5bDp-",
        "colab_type": "code",
        "colab": {
          "base_uri": "https://localhost:8080/",
          "height": 221
        },
        "outputId": "ad280ffe-5123-4764-c33b-b84aab028988"
      },
      "source": [
        "!pip install uszipcode"
      ],
      "execution_count": 156,
      "outputs": [
        {
          "output_type": "stream",
          "text": [
            "Requirement already satisfied: uszipcode in /usr/local/lib/python3.6/dist-packages (0.2.2)\n",
            "Requirement already satisfied: attrs in /usr/local/lib/python3.6/dist-packages (from uszipcode) (19.1.0)\n",
            "Requirement already satisfied: sqlalchemy in /usr/local/lib/python3.6/dist-packages (from uszipcode) (1.3.3)\n",
            "Requirement already satisfied: pathlib-mate in /usr/local/lib/python3.6/dist-packages (from uszipcode) (0.0.15)\n",
            "Requirement already satisfied: requests in /usr/local/lib/python3.6/dist-packages (from uszipcode) (2.21.0)\n",
            "Requirement already satisfied: autopep8 in /usr/local/lib/python3.6/dist-packages (from pathlib-mate->uszipcode) (1.4.4)\n",
            "Requirement already satisfied: six in /usr/local/lib/python3.6/dist-packages (from pathlib-mate->uszipcode) (1.12.0)\n",
            "Requirement already satisfied: idna<2.9,>=2.5 in /usr/local/lib/python3.6/dist-packages (from requests->uszipcode) (2.8)\n",
            "Requirement already satisfied: chardet<3.1.0,>=3.0.2 in /usr/local/lib/python3.6/dist-packages (from requests->uszipcode) (3.0.4)\n",
            "Requirement already satisfied: certifi>=2017.4.17 in /usr/local/lib/python3.6/dist-packages (from requests->uszipcode) (2019.3.9)\n",
            "Requirement already satisfied: urllib3<1.25,>=1.21.1 in /usr/local/lib/python3.6/dist-packages (from requests->uszipcode) (1.24.3)\n",
            "Requirement already satisfied: pycodestyle>=2.4.0 in /usr/local/lib/python3.6/dist-packages (from autopep8->pathlib-mate->uszipcode) (2.5.0)\n"
          ],
          "name": "stdout"
        }
      ]
    },
    {
      "cell_type": "code",
      "metadata": {
        "id": "OvQfSKRebb10",
        "colab_type": "code",
        "outputId": "2aab1185-6cea-49e8-c6f1-e74523493ee6",
        "colab": {
          "base_uri": "https://localhost:8080/",
          "height": 80
        }
      },
      "source": [
        "df.sample()"
      ],
      "execution_count": 157,
      "outputs": [
        {
          "output_type": "execute_result",
          "data": {
            "text/html": [
              "<div>\n",
              "<style scoped>\n",
              "    .dataframe tbody tr th:only-of-type {\n",
              "        vertical-align: middle;\n",
              "    }\n",
              "\n",
              "    .dataframe tbody tr th {\n",
              "        vertical-align: top;\n",
              "    }\n",
              "\n",
              "    .dataframe thead th {\n",
              "        text-align: right;\n",
              "    }\n",
              "</style>\n",
              "<table border=\"1\" class=\"dataframe\">\n",
              "  <thead>\n",
              "    <tr style=\"text-align: right;\">\n",
              "      <th></th>\n",
              "      <th>lat</th>\n",
              "      <th>lon</th>\n",
              "      <th>precio</th>\n",
              "      <th>m2_totales</th>\n",
              "      <th>m2_cubiertos</th>\n",
              "      <th>ambientes</th>\n",
              "      <th>precio_m2_c</th>\n",
              "      <th>precio_m2_t</th>\n",
              "    </tr>\n",
              "  </thead>\n",
              "  <tbody>\n",
              "    <tr>\n",
              "      <th>494</th>\n",
              "      <td>NaN</td>\n",
              "      <td>NaN</td>\n",
              "      <td>135879.0</td>\n",
              "      <td>51.0</td>\n",
              "      <td>46.0</td>\n",
              "      <td>NaN</td>\n",
              "      <td>2953.891304</td>\n",
              "      <td>2664.294118</td>\n",
              "    </tr>\n",
              "  </tbody>\n",
              "</table>\n",
              "</div>"
            ],
            "text/plain": [
              "     lat  lon    precio  m2_totales  m2_cubiertos  ambientes  precio_m2_c  precio_m2_t\n",
              "494  NaN  NaN  135879.0        51.0          46.0        NaN  2953.891304  2664.294118"
            ]
          },
          "metadata": {
            "tags": []
          },
          "execution_count": 157
        }
      ]
    },
    {
      "cell_type": "code",
      "metadata": {
        "id": "d7ZYGn1PaOmQ",
        "colab_type": "code",
        "outputId": "bf579c91-721a-4093-e9b5-fb1c05a0bd1f",
        "colab": {
          "base_uri": "https://localhost:8080/",
          "height": 54
        }
      },
      "source": [
        "#https://towardsdatascience.com/mapping-inequality-in-peer-2-peer-lending-using-geopandas-part-1-b8c7f883d1ba44\n",
        "\n",
        "\n",
        "from uszipcode import Zipcode\n",
        "from uszipcode import SearchEngine\n",
        "search = SearchEngine(simple_zipcode=True) # set simple_zipcode=False to use rich info database\n",
        "\n",
        "\n",
        "# Search zipcode within 30 miles, ordered from closest to farthest\n",
        "result = search.by_coordinates(-34.561999, -58.444496, radius=10, returns=5)\n",
        "result\n",
        "\n",
        "zipcode = search.by_zipcode(\"1425\")\n",
        "zipcode\n"
      ],
      "execution_count": 158,
      "outputs": [
        {
          "output_type": "execute_result",
          "data": {
            "text/plain": [
              "SimpleZipcode(zipcode=None, zipcode_type=None, major_city=None, post_office_city=None, common_city_list=None, county=None, state=None, lat=None, lng=None, timezone=None, radius_in_miles=None, area_code_list=None, population=None, population_density=None, land_area_in_sqmi=None, water_area_in_sqmi=None, housing_units=None, occupied_housing_units=None, median_home_value=None, median_household_income=None, bounds_west=None, bounds_east=None, bounds_north=None, bounds_south=None)"
            ]
          },
          "metadata": {
            "tags": []
          },
          "execution_count": 158
        }
      ]
    }
  ]
}